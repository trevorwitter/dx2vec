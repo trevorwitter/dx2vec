{
 "cells": [
  {
   "cell_type": "code",
   "execution_count": 1,
   "id": "82067bc4-2e04-4092-acfe-d58b1ebf4c59",
   "metadata": {},
   "outputs": [
    {
     "data": {
      "text/plain": [
       "<torch._C.Generator at 0x11bf6b2d0>"
      ]
     },
     "execution_count": 1,
     "metadata": {},
     "output_type": "execute_result"
    }
   ],
   "source": [
    "import numpy as np\n",
    "import pandas as pd\n",
    "import torch\n",
    "import torch.nn as nn\n",
    "import torch.nn.functional as F\n",
    "import torch.optim as optim\n",
    "\n",
    "import matplotlib.pyplot as plt\n",
    "\n",
    "torch.manual_seed(1)"
   ]
  },
  {
   "cell_type": "markdown",
   "id": "4bc34072-2142-4241-81c2-9d8a91ca15da",
   "metadata": {},
   "source": [
    "## Get diagosis data"
   ]
  },
  {
   "cell_type": "code",
   "execution_count": 2,
   "id": "28f8691f-2c0c-45fa-b064-5f3658db3889",
   "metadata": {},
   "outputs": [],
   "source": [
    "def get_sample_op_claims(sample=1):\n",
    "    \"\"\"Returns all outpatient claims for selected sample\"\"\"\n",
    "    df = pd.read_csv(f'https://www.cms.gov/Research-Statistics-Data-and-Systems/Downloadable-Public-Use-Files/SynPUFs/Downloads/DE1_0_2008_to_2010_Outpatient_Claims_Sample_{sample}.zip',\n",
    "                     usecols=['DESYNPUF_ID','CLM_ID','CLM_FROM_DT','PRVDR_NUM','CLM_PMT_AMT',\n",
    "                               'ICD9_DGNS_CD_1', 'ICD9_DGNS_CD_2', 'ICD9_DGNS_CD_3', 'ICD9_DGNS_CD_4',\n",
    "                               'ICD9_DGNS_CD_5', 'ICD9_DGNS_CD_6', 'ICD9_DGNS_CD_7', 'ICD9_DGNS_CD_8',\n",
    "                               'ICD9_DGNS_CD_9', 'ICD9_DGNS_CD_10', 'ICD9_PRCDR_CD_1',\n",
    "                               'ICD9_PRCDR_CD_2', 'ICD9_PRCDR_CD_3', 'ICD9_PRCDR_CD_4',\n",
    "                               'ICD9_PRCDR_CD_5', 'ICD9_PRCDR_CD_6', 'ADMTNG_ICD9_DGNS_CD', 'HCPCS_CD_1',\n",
    "                               'HCPCS_CD_2', 'HCPCS_CD_3', 'HCPCS_CD_4', 'HCPCS_CD_5', 'HCPCS_CD_6',\n",
    "                               'HCPCS_CD_7', 'HCPCS_CD_8', 'HCPCS_CD_9', 'HCPCS_CD_10', 'HCPCS_CD_11',\n",
    "                               'HCPCS_CD_12', 'HCPCS_CD_13', 'HCPCS_CD_14', 'HCPCS_CD_15',\n",
    "                               'HCPCS_CD_16', 'HCPCS_CD_17', 'HCPCS_CD_18', 'HCPCS_CD_19',\n",
    "                               'HCPCS_CD_20', 'HCPCS_CD_21', 'HCPCS_CD_22', 'HCPCS_CD_23',\n",
    "                               'HCPCS_CD_24', 'HCPCS_CD_25', 'HCPCS_CD_26', 'HCPCS_CD_27',\n",
    "                               'HCPCS_CD_28', 'HCPCS_CD_29', 'HCPCS_CD_30', 'HCPCS_CD_31',\n",
    "                               'HCPCS_CD_32', 'HCPCS_CD_33', 'HCPCS_CD_34', 'HCPCS_CD_35',\n",
    "                               'HCPCS_CD_36', 'HCPCS_CD_37', 'HCPCS_CD_38', 'HCPCS_CD_39',\n",
    "                               'HCPCS_CD_40', 'HCPCS_CD_41', 'HCPCS_CD_42', 'HCPCS_CD_43',\n",
    "                               'HCPCS_CD_44', 'HCPCS_CD_45'],\n",
    "                     dtype={'CLM_ID':int,'CLM_PMT_AMT':int},\n",
    "                     compression='zip',\n",
    "                     engine='c',\n",
    "                     parse_dates=['CLM_FROM_DT']\n",
    "                    )\n",
    "    return df"
   ]
  },
  {
   "cell_type": "code",
   "execution_count": 3,
   "id": "cc6cb23b-8f71-4af5-be14-0f6eca3a4a4a",
   "metadata": {},
   "outputs": [
    {
     "name": "stderr",
     "output_type": "stream",
     "text": [
      "/var/folders/td/4jttxk_j59ngw4ck3xdp25th0000gn/T/ipykernel_68103/2871165091.py:3: DtypeWarning: Columns (21,23,24,25,26,27) have mixed types. Specify dtype option on import or set low_memory=False.\n",
      "  df = pd.read_csv(f'https://www.cms.gov/Research-Statistics-Data-and-Systems/Downloadable-Public-Use-Files/SynPUFs/Downloads/DE1_0_2008_to_2010_Outpatient_Claims_Sample_{sample}.zip',\n"
     ]
    },
    {
     "name": "stdout",
     "output_type": "stream",
     "text": [
      "CPU times: user 2.75 s, sys: 399 ms, total: 3.15 s\n",
      "Wall time: 4.83 s\n"
     ]
    },
    {
     "data": {
      "text/plain": [
       "(790790, 67)"
      ]
     },
     "execution_count": 3,
     "metadata": {},
     "output_type": "execute_result"
    }
   ],
   "source": [
    "%%time\n",
    "df = get_sample_op_claims(sample=1)\n",
    "df.shape"
   ]
  },
  {
   "cell_type": "code",
   "execution_count": 4,
   "id": "af2c5980-231b-4fbc-a146-1b8a5cbbd367",
   "metadata": {},
   "outputs": [
    {
     "name": "stdout",
     "output_type": "stream",
     "text": [
      "9.27 claims per member on average\n"
     ]
    }
   ],
   "source": [
    "claims_per_member = round(len(df)/len(df['DESYNPUF_ID'].unique()),2)\n",
    "print(f\"{claims_per_member} claims per member on average\")"
   ]
  },
  {
   "cell_type": "code",
   "execution_count": 5,
   "id": "12ca1238-efa4-4bdd-a5e4-82fd8c6a5d70",
   "metadata": {},
   "outputs": [],
   "source": [
    "def get_dx_df(df):\n",
    "    df_out = df[['DESYNPUF_ID','CLM_FROM_DT',\n",
    "                 'ICD9_DGNS_CD_1', 'ICD9_DGNS_CD_2', 'ICD9_DGNS_CD_3', 'ICD9_DGNS_CD_4',\n",
    "                 'ICD9_DGNS_CD_5', 'ICD9_DGNS_CD_6', 'ICD9_DGNS_CD_7', 'ICD9_DGNS_CD_8',\n",
    "                 'ICD9_DGNS_CD_9', 'ICD9_DGNS_CD_10', 'ICD9_PRCDR_CD_1',\n",
    "                 'ICD9_PRCDR_CD_2', 'ICD9_PRCDR_CD_3', 'ICD9_PRCDR_CD_4',\n",
    "                 'ICD9_PRCDR_CD_5', 'ICD9_PRCDR_CD_6', 'ADMTNG_ICD9_DGNS_CD',]\n",
    "               ].melt(id_vars=['DESYNPUF_ID','CLM_FROM_DT'],\n",
    "                      value_name='dx'\n",
    "                     ).drop('variable',axis=1)\n",
    "    df_out = df_out[df_out['dx'].isna()==False]\n",
    "    df_out = df_out.drop_duplicates(['DESYNPUF_ID','CLM_FROM_DT','dx']).reset_index(drop=True)\n",
    "    return df_out"
   ]
  },
  {
   "cell_type": "code",
   "execution_count": 6,
   "id": "6043a167-9037-45b4-aaf9-e7b401f5fa76",
   "metadata": {},
   "outputs": [],
   "source": [
    "dx_df = get_dx_df(df)"
   ]
  },
  {
   "cell_type": "code",
   "execution_count": 7,
   "id": "8d80b1a4-216f-4d84-8245-b57036552dae",
   "metadata": {},
   "outputs": [
    {
     "data": {
      "text/plain": [
       "(2250334, 3)"
      ]
     },
     "execution_count": 7,
     "metadata": {},
     "output_type": "execute_result"
    }
   ],
   "source": [
    "dx_df.shape"
   ]
  },
  {
   "cell_type": "code",
   "execution_count": 8,
   "id": "7d8bd4fb-4bd9-41bf-b29c-8c94e5e5b698",
   "metadata": {},
   "outputs": [
    {
     "data": {
      "text/html": [
       "<div>\n",
       "<style scoped>\n",
       "    .dataframe tbody tr th:only-of-type {\n",
       "        vertical-align: middle;\n",
       "    }\n",
       "\n",
       "    .dataframe tbody tr th {\n",
       "        vertical-align: top;\n",
       "    }\n",
       "\n",
       "    .dataframe thead th {\n",
       "        text-align: right;\n",
       "    }\n",
       "</style>\n",
       "<table border=\"1\" class=\"dataframe\">\n",
       "  <thead>\n",
       "    <tr style=\"text-align: right;\">\n",
       "      <th></th>\n",
       "      <th>DESYNPUF_ID</th>\n",
       "      <th>CLM_FROM_DT</th>\n",
       "      <th>dx</th>\n",
       "    </tr>\n",
       "  </thead>\n",
       "  <tbody>\n",
       "    <tr>\n",
       "      <th>0</th>\n",
       "      <td>00013D2EFD8E45D1</td>\n",
       "      <td>2008-09-04</td>\n",
       "      <td>V5841</td>\n",
       "    </tr>\n",
       "    <tr>\n",
       "      <th>1</th>\n",
       "      <td>00016F745862898F</td>\n",
       "      <td>2009-06-02</td>\n",
       "      <td>V5832</td>\n",
       "    </tr>\n",
       "    <tr>\n",
       "      <th>2</th>\n",
       "      <td>00016F745862898F</td>\n",
       "      <td>2009-06-23</td>\n",
       "      <td>9594</td>\n",
       "    </tr>\n",
       "    <tr>\n",
       "      <th>3</th>\n",
       "      <td>0001FDD721E223DC</td>\n",
       "      <td>2009-10-11</td>\n",
       "      <td>78943</td>\n",
       "    </tr>\n",
       "    <tr>\n",
       "      <th>4</th>\n",
       "      <td>00024B3D2352D2D0</td>\n",
       "      <td>2008-07-12</td>\n",
       "      <td>6009</td>\n",
       "    </tr>\n",
       "  </tbody>\n",
       "</table>\n",
       "</div>"
      ],
      "text/plain": [
       "        DESYNPUF_ID CLM_FROM_DT     dx\n",
       "0  00013D2EFD8E45D1  2008-09-04  V5841\n",
       "1  00016F745862898F  2009-06-02  V5832\n",
       "2  00016F745862898F  2009-06-23   9594\n",
       "3  0001FDD721E223DC  2009-10-11  78943\n",
       "4  00024B3D2352D2D0  2008-07-12   6009"
      ]
     },
     "execution_count": 8,
     "metadata": {},
     "output_type": "execute_result"
    }
   ],
   "source": [
    "dx_df.head()"
   ]
  },
  {
   "cell_type": "code",
   "execution_count": 9,
   "id": "f86a9647-d6eb-4251-a672-6e94e5339782",
   "metadata": {},
   "outputs": [],
   "source": [
    "dx_df = dx_df.head(2000)"
   ]
  },
  {
   "cell_type": "markdown",
   "id": "965bac3f-a54d-4dbd-b8e1-7536c971fd74",
   "metadata": {},
   "source": [
    "# Dx dict"
   ]
  },
  {
   "cell_type": "code",
   "execution_count": 10,
   "id": "3c07605c-b178-4429-8041-f5ed3042016d",
   "metadata": {},
   "outputs": [],
   "source": [
    "vocab = set(dx_df['dx'])\n",
    "vocab.add('[blank]')\n",
    "dx_to_ix = {dx: i for i, dx in enumerate(vocab)}"
   ]
  },
  {
   "cell_type": "code",
   "execution_count": 11,
   "id": "3c8446a7-26c4-4fdb-87b6-a95f06dead05",
   "metadata": {},
   "outputs": [
    {
     "data": {
      "text/plain": [
       "1210"
      ]
     },
     "execution_count": 11,
     "metadata": {},
     "output_type": "execute_result"
    }
   ],
   "source": [
    "len(vocab)"
   ]
  },
  {
   "cell_type": "code",
   "execution_count": 12,
   "id": "71b4e863-32da-4894-a3e3-85cf35fcf533",
   "metadata": {},
   "outputs": [],
   "source": [
    "dx_df['dx'] = [dx_to_ix[x] for x in dx_df['dx']]"
   ]
  },
  {
   "cell_type": "code",
   "execution_count": 13,
   "id": "f59d945e-b8d3-4195-93b6-fac6cab40f05",
   "metadata": {},
   "outputs": [],
   "source": [
    "class DXDataset(torch.utils.data.Dataset):\n",
    "    def __init__(self, df, ID_col, context_size, dx_to_ix, mode='CBOW'):\n",
    "        self.data = df\n",
    "        self.ID_col = ID_col\n",
    "        self.context_size=context_size\n",
    "        self.dx_to_ix = dx_to_ix\n",
    "        self.mode = mode\n",
    "    \n",
    "    def __len__(self):\n",
    "        return len(self.data)\n",
    "    \n",
    "    def __getitem__(self, idx):\n",
    "        member = dx_df[self.ID_col].iloc[idx]\n",
    "        df1 = dx_df[dx_df[self.ID_col] == member].copy()\n",
    "        self.df1 = df1\n",
    "        \n",
    "        if self.mode == 'CBOW':\n",
    "            if idx >= df1.index.min():\n",
    "                start = idx - self.context_size//2\n",
    "            else:\n",
    "                start = df1.index.min()\n",
    "            end = idx + self.context_size//2\n",
    "            \n",
    "            ngrams_pre = [x for x in df1['dx'].loc[start:(idx-1)]]\n",
    "            ngrams_post = [x for x in df1['dx'].loc[idx+1:end]]\n",
    "            ngrams_pre.extend(ngrams_post)\n",
    "            \n",
    "            ngrams = [ngrams_pre,\n",
    "                      df1['dx'].loc[idx]\n",
    "                     ]\n",
    "        elif self.mode == 'lead':\n",
    "            if idx >= df1.index.min():\n",
    "                start = idx - self.context_size\n",
    "            else:\n",
    "                start = df1.index.min()\n",
    "            \n",
    "            ngrams = [[x for x in df1['dx'].loc[start:(idx-1)]],\n",
    "                      df1['dx'].loc[idx]\n",
    "                     ]\n",
    "            \n",
    "            \n",
    "        if len(ngrams[0]) == 0:\n",
    "            ngrams[0] = [dx_to_ix['[blank]'] for x in range(self.context_size)]\n",
    "        elif len(ngrams[0]) < self.context_size:\n",
    "            size_ = self.context_size - len(ngrams[0])\n",
    "            for x in range(size_):\n",
    "                ngrams[0].insert(0, dx_to_ix['[blank]'])\n",
    "        else:\n",
    "            pass\n",
    "        ngrams[0] = torch.tensor(ngrams[0]).unsqueeze(0)\n",
    "        ngrams[1] = torch.tensor(ngrams[1])\n",
    "        return ngrams"
   ]
  },
  {
   "cell_type": "markdown",
   "id": "d29cf4a3-57ce-455e-98f9-900d0f5cdf9f",
   "metadata": {},
   "source": [
    "## Define Model"
   ]
  },
  {
   "cell_type": "code",
   "execution_count": 14,
   "id": "73b29312-9957-4fa5-bcbe-03fbda11d72c",
   "metadata": {},
   "outputs": [],
   "source": [
    "class NGramICDModeler(nn.Module):\n",
    "    def __init__(self, vocab_size, embedding_dim, context_size):\n",
    "        super(NGramICDModeler, self).__init__()\n",
    "        self.vocab_size = vocab_size\n",
    "        self.context_size = context_size\n",
    "        self.embedding_dim = embedding_dim\n",
    "        self.embeddings = nn.Embedding(vocab_size, embedding_dim)\n",
    "        self.linear1 = nn.Linear(context_size * embedding_dim, 128)\n",
    "        self.linear2 = nn.Linear(128, vocab_size)\n",
    "        \n",
    "    def forward(self, inputs):\n",
    "        batch_size = inputs.size(0)\n",
    "        embeds = self.embeddings(inputs).view(batch_size, 1, self.context_size*self.embedding_dim)\n",
    "        out = F.relu(self.linear1(embeds))\n",
    "        out = self.linear2(out)\n",
    "        log_probs = F.log_softmax(out, dim=0).view(batch_size, self.vocab_size)\n",
    "        return log_probs"
   ]
  },
  {
   "cell_type": "markdown",
   "id": "607cae89-6c12-4141-9961-80bb96b33f19",
   "metadata": {},
   "source": [
    "## Define Training Loop"
   ]
  },
  {
   "cell_type": "code",
   "execution_count": 15,
   "id": "45c3dd0a-cbc9-41bb-a523-8c245358c053",
   "metadata": {},
   "outputs": [],
   "source": [
    "def training_loop(epochs, training_generator, model, loss_function, verbose=True):\n",
    "    losses = []\n",
    "    for epoch in range(epochs):\n",
    "        total_loss = 0\n",
    "        for i, data in enumerate(training_generator):\n",
    "            inputs, labels = data\n",
    "            model.zero_grad()\n",
    "            outputs = model(inputs)\n",
    "            \n",
    "            loss = loss_function(outputs, labels)\n",
    "            loss.backward()\n",
    "            optimizer.step()\n",
    "            total_loss += loss.item()\n",
    "        losses.append(total_loss)\n",
    "        if verbose == True:\n",
    "            if epoch % 5 == 0:\n",
    "                print(f\"Epoch: {epoch} --- Loss: {round(total_loss, 2)}\")\n",
    "    return model, losses"
   ]
  },
  {
   "cell_type": "markdown",
   "id": "45d96ac9-a10c-411d-98e9-c40b71a75dbe",
   "metadata": {},
   "source": [
    "## Train Model"
   ]
  },
  {
   "cell_type": "code",
   "execution_count": 16,
   "id": "067b151b-fadf-4bed-b328-463d3a4cb926",
   "metadata": {},
   "outputs": [],
   "source": [
    "device = torch.device(\"mps\")"
   ]
  },
  {
   "cell_type": "code",
   "execution_count": 17,
   "id": "f4323021-85ee-4c37-aede-655c5976011f",
   "metadata": {},
   "outputs": [],
   "source": [
    "vocab_size = len(vocab)\n",
    "EMBEDDING_DIM = 100\n",
    "CONTEXT_SIZE = 10\n",
    "\n",
    "loss_function = nn.NLLLoss()\n",
    "model = NGramICDModeler(len(vocab), EMBEDDING_DIM, CONTEXT_SIZE)\n",
    "optimizer = optim.SGD(model.parameters(), lr=0.001)"
   ]
  },
  {
   "cell_type": "code",
   "execution_count": 18,
   "id": "3e11a679-1e58-4400-85c9-f1f9c454ccb5",
   "metadata": {},
   "outputs": [],
   "source": [
    "data = DXDataset(df=dx_df,\n",
    "                 ID_col='DESYNPUF_ID',\n",
    "                 context_size=CONTEXT_SIZE,\n",
    "                 dx_to_ix=dx_to_ix,\n",
    "                 mode='CBOW')\n",
    "\n",
    "training_generator = torch.utils.data.DataLoader(data,\n",
    "                                                 batch_size=64,\n",
    "                                                 shuffle=True)"
   ]
  },
  {
   "cell_type": "code",
   "execution_count": 19,
   "id": "ffc87747-5b02-48a3-9c4f-4302459d3d50",
   "metadata": {},
   "outputs": [
    {
     "name": "stdout",
     "output_type": "stream",
     "text": [
      "Epoch: 0 --- Loss: 132.28\n",
      "Epoch: 5 --- Loss: 131.91\n",
      "Epoch: 10 --- Loss: 131.53\n",
      "Epoch: 15 --- Loss: 131.04\n",
      "Epoch: 20 --- Loss: 130.64\n",
      "Epoch: 25 --- Loss: 130.26\n",
      "Epoch: 30 --- Loss: 129.91\n",
      "Epoch: 35 --- Loss: 129.49\n",
      "Epoch: 40 --- Loss: 129.15\n",
      "Epoch: 45 --- Loss: 128.81\n",
      "Epoch: 50 --- Loss: 128.43\n",
      "Epoch: 55 --- Loss: 128.05\n",
      "Epoch: 60 --- Loss: 127.73\n",
      "Epoch: 65 --- Loss: 127.21\n",
      "Epoch: 70 --- Loss: 126.97\n",
      "Epoch: 75 --- Loss: 126.68\n",
      "Epoch: 80 --- Loss: 126.26\n",
      "Epoch: 85 --- Loss: 125.84\n",
      "Epoch: 90 --- Loss: 125.44\n",
      "Epoch: 95 --- Loss: 125.16\n",
      "CPU times: user 58.7 s, sys: 5.64 s, total: 1min 4s\n",
      "Wall time: 59.7 s\n"
     ]
    }
   ],
   "source": [
    "%%time\n",
    "model, losses = training_loop(100,\n",
    "                              training_generator,\n",
    "                              model,\n",
    "                              loss_function,\n",
    "                             )"
   ]
  },
  {
   "cell_type": "code",
   "execution_count": 20,
   "id": "058027ac-7a02-4068-bf05-139abd974004",
   "metadata": {},
   "outputs": [
    {
     "data": {
      "image/png": "[encoded data removed]",
      "text/plain": [
       "<Figure size 432x288 with 1 Axes>"
      ]
     },
     "metadata": {
      "needs_background": "light"
     },
     "output_type": "display_data"
    }
   ],
   "source": [
    "plt.plot(losses)\n",
    "plt.show()"
   ]
  },
  {
   "cell_type": "code",
   "execution_count": null,
   "id": "68179314-8829-4c7a-8f50-4658ab6a28db",
   "metadata": {},
   "outputs": [],
   "source": [
    "torch.save(model.state_dict(), f\"models/test_icd_cbow.pt\")"
   ]
  },
  {
   "cell_type": "code",
   "execution_count": null,
   "id": "ca8de184-cac6-4acb-a3e8-6663253a8df7",
   "metadata": {},
   "outputs": [],
   "source": []
  }
 ],
 "metadata": {
  "kernelspec": {
   "display_name": "Python 3 (ipykernel)",
   "language": "python",
   "name": "python3"
  },
  "language_info": {
   "codemirror_mode": {
    "name": "ipython",
    "version": 3
   },
   "file_extension": ".py",
   "mimetype": "text/x-python",
   "name": "python",
   "nbconvert_exporter": "python",
   "pygments_lexer": "ipython3",
   "version": "3.10.8"
  }
 },
 "nbformat": 4,
 "nbformat_minor": 5
}
